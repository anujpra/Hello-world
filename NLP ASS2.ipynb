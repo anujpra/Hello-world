{
 "cells": [
  {
   "cell_type": "code",
   "execution_count": 52,
   "metadata": {},
   "outputs": [],
   "source": [
    "import nltk"
   ]
  },
  {
   "cell_type": "code",
   "execution_count": 53,
   "metadata": {},
   "outputs": [],
   "source": [
    "from nltk import PorterStemmer"
   ]
  },
  {
   "cell_type": "code",
   "execution_count": 54,
   "metadata": {},
   "outputs": [
    {
     "data": {
      "text/plain": [
       "['ANUJ PRAJAPATI 2/855 rambagh colony ramghat road aligarh E-mail: anujpra105@gmail.com CAREER GOAL Client Server Systems Architect for a high technology firm. QUALIFICATIONS SUMMARY Betch from Delhi Technologial university TECHNICAL SKILLS * PROGRAMMING: C, C++, Visual BASIC, FORTRAN, Pascal, SQL, OSF/Motif, UNIX Shell Script (sh, ksh, csh), BASIC, Clipper, Algol 68, and 80X86 Assembler. * OPERATING SYSTEMS: UNIX (bsd & SVr3/r4), MS Windows, MS DOS, MS Windows NT, Solaris, HP-UX, Ultrix, AIX, VAX/VMS, and Macintosh System 7. * NETWORKING: TCP/IP, OSI, Microsoft LAN Manager, Novell Netware, DDN, Internet, Ethernet, Token Ring, SNA, X.25, LAN-WAN interconnection. * APPLICATIONS: Microsoft Office, Microsoft Access, Microsoft Visual C++, Microsoft Project, Microsoft Publisher, Lotus 123, Lotus Freelance, System Architect, and others. PROFESSIONAL EXPERIENCE Systems Engineer\\n',\n",
       " 'Computer Engineering Corporation, Los Angeles, CA, 1993-Present * Provide systems engineering, software engineering, technical consulting, and marketing services as a member of the Systems Integration Division of a software engineering consulting company. *intern at chegg *core member of engifest logistic team 2017 *secured rank among top 10000 in jee mains SUBJECTS: algorithm design and analysis , computer networks, operating system, theory of computation , database management systems, object oriented programmings Projects: Sentiment analysis (a.k.a opinion mining) is the automated process of identifying and extracting the subjective information that underlies a text. This can be either an opinion, a judgment, or a feeling about a particular topic or subject. The most common type of sentiment analysis is called ‘polarity detection’ and involves classifying a statement as ‘positive’, ‘negative’, or ‘neutral’. For example, let’s take this sentence: “I don’t find the app useful: it’s really slow and constantly crashing”. A sentiment analysis model would automatically tag this as Negative. A sub-field of Natural Language Processing (NLP), sentiment analysis has been getting a lot of attention in recent years due to its many exciting business applications. By analyzing social media posts, product reviews, customer feedback, and NPS responses (among other unstructured data), businesses can understand how their customers feel about their product or service.  Sentiment analysis is particularly useful for social media monitoring because it goes beyond the number of likes or retweets, by providing qualitative insights. Imagine you just launched a new product feature and notice a sharp increase in mentions on Twitter. Are customers tweeting more because they are delighted with the new feature? Or, are they actually complaining about the feature? Performing sentiment analysis on Twitter data can help you quickly understand the tone of those mentions.\\n',\n",
       " '\\n',\n",
       " '\\n']"
      ]
     },
     "execution_count": 54,
     "metadata": {},
     "output_type": "execute_result"
    }
   ],
   "source": [
    "file=open(\"/home/anuj/Downloads/NLP resume.txt\")\n",
    "my_lines_list=file.readlines()\n",
    "my_lines_list"
   ]
  },
  {
   "cell_type": "code",
   "execution_count": 55,
   "metadata": {},
   "outputs": [
    {
     "name": "stdout",
     "output_type": "stream",
     "text": [
      "ANUJ PRAJAPATI 2/855 rambagh colony ramghat road aligarh E-mail: anujpra105@gmail.com CAREER GOAL Client Server Systems Architect for a high technology firm. QUALIFICATIONS SUMMARY Betch from Delhi Technologial university TECHNICAL SKILLS * PROGRAMMING: C, C++, Visual BASIC, FORTRAN, Pascal, SQL, OSF/Motif, UNIX Shell Script (sh, ksh, csh), BASIC, Clipper, Algol 68, and 80X86 Assembler. * OPERATING SYSTEMS: UNIX (bsd & SVr3/r4), MS Windows, MS DOS, MS Windows NT, Solaris, HP-UX, Ultrix, AIX, VAX/VMS, and Macintosh System 7. * NETWORKING: TCP/IP, OSI, Microsoft LAN Manager, Novell Netware, DDN, Internet, Ethernet, Token Ring, SNA, X.25, LAN-WAN interconnection. * APPLICATIONS: Microsoft Office, Microsoft Access, Microsoft Visual C++, Microsoft Project, Microsoft Publisher, Lotus 123, Lotus Freelance, System Architect, and others. PROFESSIONAL EXPERIENCE Systems Engineer\n",
      "\n",
      "Stemmed sentence\n",
      "anuj prajapati 2/855 rambagh coloni ramghat road aligarh e-mail : anujpra105 @ gmail.com career goal client server system architect for a high technolog firm . qualif summari betch from delhi technologi univers technic skill * program : C , c++ , visual basic , fortran , pascal , sql , osf/motif , unix shell script ( sh , ksh , csh ) , basic , clipper , algol 68 , and 80x86 assembl . * oper system : unix ( bsd & svr3/r4 ) , MS window , MS do , MS window NT , solari , hp-ux , ultrix , aix , vax/vm , and macintosh system 7 . * network : tcp/ip , osi , microsoft lan manag , novel netwar , ddn , internet , ethernet , token ring , sna , x.25 , lan-wan interconnect . * applic : microsoft offic , microsoft access , microsoft visual c++ , microsoft project , microsoft publish , lotu 123 , lotu freelanc , system architect , and other . profession experi system engin \n"
     ]
    }
   ],
   "source": [
    "from nltk.tokenize import sent_tokenize, word_tokenize\n",
    "from nltk.stem import PorterStemmer\n",
    "\n",
    "porter=PorterStemmer()\n",
    "\n",
    "def stemSentence(sentence):\n",
    "    token_words=word_tokenize(sentence)\n",
    "    token_words\n",
    "    stem_sentence=[]\n",
    "    for word in token_words:\n",
    "        stem_sentence.append(porter.stem(word))\n",
    "        stem_sentence.append(\" \")\n",
    "    return \"\".join(stem_sentence)\n",
    "\n",
    "print(my_lines_list[0])\n",
    "print(\"Stemmed sentence\")\n",
    "x=stemSentence(my_lines_list[0])\n",
    "print(x)"
   ]
  },
  {
   "cell_type": "code",
   "execution_count": null,
   "metadata": {},
   "outputs": [],
   "source": []
  }
 ],
 "metadata": {
  "kernelspec": {
   "display_name": "Python 3",
   "language": "python",
   "name": "python3"
  },
  "language_info": {
   "codemirror_mode": {
    "name": "ipython",
    "version": 3
   },
   "file_extension": ".py",
   "mimetype": "text/x-python",
   "name": "python",
   "nbconvert_exporter": "python",
   "pygments_lexer": "ipython3",
   "version": "3.7.4"
  }
 },
 "nbformat": 4,
 "nbformat_minor": 4
}
